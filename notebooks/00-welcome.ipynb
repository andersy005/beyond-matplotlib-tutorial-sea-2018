{
 "cells": [
  {
   "cell_type": "markdown",
   "metadata": {},
   "source": [
    "<center>\n",
    "# Beyond Matplotlib: Building Interactive Climate Data Visualizations with Bokeh and Friends\n",
    "\n",
    "<br>\n",
    "<img src=\"https://i.imgur.com/gvrbAjo.png\" width=\"50%\" style=\"margin: 0px 25%\">\n",
    "\n",
    "## Anderson Banihirwe, University of Arkansas at Little Rock. \n",
    "<center>\n",
    "    \n",
    " "
   ]
  },
  {
   "cell_type": "markdown",
   "metadata": {},
   "source": [
    "Welcome to the **Beyond Matplotlib: Building Interactive Climate Data Visualizations with Bokeh and Friends**, SEA 2018 tutorial!\n",
    "\n",
    "This notebook servers as the homepage of the tutorial, including:\n",
    "\n",
    "- an overview, \n",
    "- instructions to check that everything is installalled properly, \n",
    "- and a table of contents listing each tutorial section."
   ]
  },
  {
   "cell_type": "markdown",
   "metadata": {},
   "source": [
    "## Workflow from data to decision\n",
    "<img src=\"https://github.com/pyviz/pyviz/raw/master/notebooks/assets/workflow.png\" width=40% align=\"left\" style=\"margin: 0px 20px\">\n",
    "<br>\n",
    "If there's no visualization at any of these stages, you're flying blind.<br><br>\n",
    "\n",
    "What if if were simple to visualize anything, anywhere?\n",
    "\n",
    "<br><br><br><small>(adapted from James A. Bednar)"
   ]
  },
  {
   "cell_type": "markdown",
   "metadata": {},
   "source": [
    "<img src=\"https://github.com/pyviz/pyviz/raw/master/notebooks/assets/landscape_hv_nx.png\" width=65% align=\"left\" style=\"margin: 0px 30px\">\n",
    "## Good news:<br><br>Lots of choices!\n",
    "<br><br><br><small>(adapted from Jake VanderPlas)"
   ]
  },
  {
   "cell_type": "markdown",
   "metadata": {},
   "source": [
    "<img src=\"https://github.com/pyviz/pyviz/raw/master/notebooks/assets/landscape_hv_nx.png\" width=65% align=\"left\" style=\"margin: 0px 30px\">\n",
    "\n",
    "## Bad news:<br><br>Lots of choices!\n",
    "<br><br>\n",
    "Too hard to\n",
    "try them all,\n",
    "learn them all, or \n",
    "get them to work together."
   ]
  },
  {
   "cell_type": "markdown",
   "metadata": {},
   "source": [
    "<img src=\"https://github.com/pyviz/pyviz/raw/master/notebooks/assets/landscape_hv_nx_pyviz.png\" width=65% align=\"left\" style=\"margin: 0px 30px\">\n",
    "\n",
    "## This Tutorial:\n",
    "<br><br>\n",
    "Explore seamless interoperability<br>for browser-based<br>viz tools\n"
   ]
  },
  {
   "cell_type": "markdown",
   "metadata": {},
   "source": [
    "## What is this all about?"
   ]
  },
  {
   "cell_type": "markdown",
   "metadata": {
    "slideshow": {
     "slide_type": "slide"
    }
   },
   "source": [
    "In this tutorial we will explore these newer tools for building interactive plots, supported by Anaconda: \n",
    "\n",
    "* [**Bokeh**](http://bokeh.pydata.org): Interactive plotting in web browsers, running JavaScript but controlled by Python\n",
    "* [**HoloViews**](http://holoviews.org): Declarative objects for instantly visualizable data, building Bokeh plots from convenient high-level specifications\n",
    "* [**GeoViews**](http://geo.holoviews.org): Visualizable geographic data that that can be mixed and matched with HoloViews objects\n",
    "\n",
    "\n",
    "This tutorial will introduce HoloViews and guide you through the process of building rich, deployable visualizations based on Bokeh, and (briefly) matplotlib.\n",
    "\n",
    "When using HoloViews, the focus is on bundling your data together with the appropriate metadata to support both analysis and plotting, making your raw data and its visualization equally accessible at all times. "
   ]
  },
  {
   "cell_type": "markdown",
   "metadata": {},
   "source": [
    "## Index and Schedule"
   ]
  },
  {
   "cell_type": "markdown",
   "metadata": {},
   "source": [
    "\n",
    "This four-hour tutorial is broken down into the following sections:\n",
    "- **30 min**  1 - Introduction: Get started by creating a variety of different HoloViews \"elements\".\n",
    "- **15 min**  2 - Customizing visual appearance: How to change the appearance and output format of elements.\n",
    "- **30 min**  3 - Exploration with containers: Using HoloViews \"containers\" for quick, easy data exploration.\n",
    "- **15 min**  Break\n",
    "- **30 min**  4 - Working with tabular data: Exploring a tabular (columnar) dataset.\n",
    "- **20 min**  5 - Working with gridded data: Exploring a gridded (n-dimensional) dataset.\n",
    "- **30 min**  6 - Custom interactivity: Using HoloViews \"streams\" to add interactivity to your visualizations.\n",
    "- **5 min**  Break\n",
    "- **30 min**  8 - Deploying Bokeh Apps: Deploying your visualizations using Bokeh server.\n"
   ]
  },
  {
   "cell_type": "markdown",
   "metadata": {},
   "source": [
    "## Getting set up \n",
    "Please consult the tutorial repository README for instructions on setting up your environment. Here is the condensed version of these instructions for unix-based systems (Linux or Mac OS X):\n",
    "\n",
    "```\n",
    "$ conda env create -f environment.yml\n",
    "$ source activate pyviz\n",
    "```\n",
    "If you have any problems with running these instructions, you can conveniently view the full instructions within this notebook by running the following cell:"
   ]
  },
  {
   "cell_type": "code",
   "execution_count": null,
   "metadata": {},
   "outputs": [],
   "source": [
    "from IPython.core import page\n",
    "with open('../README.md', 'r') as f:\n",
    "    page.page(f.read())"
   ]
  },
  {
   "cell_type": "markdown",
   "metadata": {},
   "source": [
    "Once the environment is set up, the following cell should"
   ]
  },
  {
   "cell_type": "code",
   "execution_count": null,
   "metadata": {},
   "outputs": [],
   "source": [
    "import holoviews as hv\n",
    "hv.__version__"
   ]
  },
  {
   "cell_type": "markdown",
   "metadata": {},
   "source": [
    "And you should see the HoloViews logo after running the following cell:"
   ]
  },
  {
   "cell_type": "code",
   "execution_count": null,
   "metadata": {},
   "outputs": [],
   "source": [
    "hv.extension('bokeh', 'matplotlib')"
   ]
  },
  {
   "cell_type": "markdown",
   "metadata": {},
   "source": [
    "The next cell tests the key imports needed for this tutorial:"
   ]
  },
  {
   "cell_type": "code",
   "execution_count": null,
   "metadata": {},
   "outputs": [],
   "source": [
    "import bokeh\n",
    "import matplotlib\n",
    "import pandas\n",
    "import geoviews\n",
    "import holoext"
   ]
  },
  {
   "cell_type": "markdown",
   "metadata": {},
   "source": [
    "## Download needed datasets"
   ]
  },
  {
   "cell_type": "code",
   "execution_count": null,
   "metadata": {},
   "outputs": [],
   "source": [
    "!python download_data.py "
   ]
  },
  {
   "cell_type": "markdown",
   "metadata": {},
   "source": [
    "\n",
    "## Recommended configuration\n",
    "\n",
    "The following configuration options are recommended additions to your '~/.holoviews.rc' file as they improve the tutorial experience and will be the default behaviour in future:\n"
   ]
  },
  {
   "cell_type": "code",
   "execution_count": null,
   "metadata": {},
   "outputs": [],
   "source": [
    "import os\n",
    "lines = ['import holoviews as hv', 'hv.extension.case_sensitive_completion=True',\n",
    "         \"hv.Dataset.datatype = ['dataframe']+hv.Dataset.datatype\"]\n",
    "print('\\n'.join(lines))"
   ]
  },
  {
   "cell_type": "markdown",
   "metadata": {},
   "source": [
    "If you do not have a holoviews.rc already, simply run the following cell to generate one containing the above lines:"
   ]
  },
  {
   "cell_type": "code",
   "execution_count": null,
   "metadata": {},
   "outputs": [],
   "source": [
    "rcpath = os.path.join(os.path.expanduser('~'), '.holoviews.rc')\n",
    "if not os.path.isfile(rcpath):\n",
    "    with open(rcpath, 'w') as f:\n",
    "        f.write('\\n'.join(lines))"
   ]
  }
 ],
 "metadata": {
  "kernelspec": {
   "display_name": "Python 3",
   "language": "python",
   "name": "python3"
  },
  "language_info": {
   "codemirror_mode": {
    "name": "ipython",
    "version": 3
   },
   "file_extension": ".py",
   "mimetype": "text/x-python",
   "name": "python",
   "nbconvert_exporter": "python",
   "pygments_lexer": "ipython3",
   "version": "3.6.4"
  },
  "toc": {
   "nav_menu": {},
   "number_sections": false,
   "sideBar": true,
   "skip_h1_title": false,
   "title_cell": "Table of Contents",
   "title_sidebar": "Contents",
   "toc_cell": false,
   "toc_position": {},
   "toc_section_display": true,
   "toc_window_display": false
  }
 },
 "nbformat": 4,
 "nbformat_minor": 2
}
