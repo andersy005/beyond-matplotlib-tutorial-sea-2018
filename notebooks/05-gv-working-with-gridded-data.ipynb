{
 "cells": [
  {
   "cell_type": "markdown",
   "metadata": {
    "toc": true
   },
   "source": [
    "<h1>Table of Contents<span class=\"tocSkip\"></span></h1>\n",
    "<div class=\"toc\"><ul class=\"toc-item\"><li><span><a href=\"#Working-with-Gridded-Datasets\" data-toc-modified-id=\"Working-with-Gridded-Datasets-1\"><span class=\"toc-item-num\">1&nbsp;&nbsp;</span>Working with Gridded Datasets</a></span><ul class=\"toc-item\"><li><span><a href=\"#Setting-some-notebook-wide-options\" data-toc-modified-id=\"Setting-some-notebook-wide-options-1.1\"><span class=\"toc-item-num\">1.1&nbsp;&nbsp;</span>Setting some notebook-wide options</a></span></li><li><span><a href=\"#Load-the-data\" data-toc-modified-id=\"Load-the-data-1.2\"><span class=\"toc-item-num\">1.2&nbsp;&nbsp;</span>Load the data</a></span></li><li><span><a href=\"#Declaring-the-dataset\" data-toc-modified-id=\"Declaring-the-dataset-1.3\"><span class=\"toc-item-num\">1.3&nbsp;&nbsp;</span>Declaring the dataset</a></span></li><li><span><a href=\"#Conversions\" data-toc-modified-id=\"Conversions-1.4\"><span class=\"toc-item-num\">1.4&nbsp;&nbsp;</span>Conversions</a></span><ul class=\"toc-item\"><li><span><a href=\"#A-Simple-example\" data-toc-modified-id=\"A-Simple-example-1.4.1\"><span class=\"toc-item-num\">1.4.1&nbsp;&nbsp;</span>A Simple example</a></span></li><li><span><a href=\"#Layout-of-LineContours-,-FilledContours-,-and-Points\" data-toc-modified-id=\"Layout-of-LineContours-,-FilledContours-,-and-Points-1.4.2\"><span class=\"toc-item-num\">1.4.2&nbsp;&nbsp;</span>Layout of <code>LineContours</code> , <code>FilledContours</code> , and <code>Points</code></a></span></li></ul></li><li><span><a href=\"#Overlaying-data-and-normalization\" data-toc-modified-id=\"Overlaying-data-and-normalization-1.5\"><span class=\"toc-item-num\">1.5&nbsp;&nbsp;</span>Overlaying data and normalization</a></span></li><li><span><a href=\"#Projections\" data-toc-modified-id=\"Projections-1.6\"><span class=\"toc-item-num\">1.6&nbsp;&nbsp;</span>Projections</a></span></li><li><span><a href=\"#Non-geographic-views\" data-toc-modified-id=\"Non-geographic-views-1.7\"><span class=\"toc-item-num\">1.7&nbsp;&nbsp;</span>Non-geographic views</a></span></li><li><span><a href=\"#Reducing-the-data\" data-toc-modified-id=\"Reducing-the-data-1.8\"><span class=\"toc-item-num\">1.8&nbsp;&nbsp;</span>Reducing the data</a></span><ul class=\"toc-item\"><li><span><a href=\"#Selecting-a-particular-coordinate\" data-toc-modified-id=\"Selecting-a-particular-coordinate-1.8.1\"><span class=\"toc-item-num\">1.8.1&nbsp;&nbsp;</span>Selecting a particular coordinate</a></span></li><li><span><a href=\"#Aggregating-coordinates\" data-toc-modified-id=\"Aggregating-coordinates-1.8.2\"><span class=\"toc-item-num\">1.8.2&nbsp;&nbsp;</span>Aggregating coordinates</a></span></li></ul></li><li><span><a href=\"#Take-away\" data-toc-modified-id=\"Take-away-1.9\"><span class=\"toc-item-num\">1.9&nbsp;&nbsp;</span>Take-away</a></span></li></ul></li></ul></div>"
   ]
  },
  {
   "cell_type": "markdown",
   "metadata": {},
   "source": [
    "<br>\n",
    "<img src=\"https://i.imgur.com/gvrbAjo.png\" width=\"50%\" style=\"margin: 0px 25%\">"
   ]
  },
  {
   "cell_type": "markdown",
   "metadata": {},
   "source": [
    "# Working with Gridded Datasets"
   ]
  },
  {
   "cell_type": "markdown",
   "metadata": {},
   "source": [
    "The main strength of HoloViews and its extensions (like GeoViews) is the ability to quickly explore complex datasets by declaring lower-dimensional views into a higher-dimensional space. In HoloViews we refer to the interface that allows you to do this as the conversion API. \n",
    "\n",
    "GeoViews is designed to make full use of multidimensional gridded datasets stored in netCDF or other common formats, via the xarray and iris interfaces in HoloViews. In this tutorial we will be focusing on the xarray interface. \n",
    "\n",
    "xarray is a convenient way of working with and representing labelled n-dimensional arrays, like pandas for labelled n-D arrays: \n",
    "\n",
    "\n",
    "<img src=\"https://xarray.pydata.org/en/stable/_images/dataset-diagram-logo.png\" width=200px style='float: left'>\n",
    "\n",
    "\n",
    "\n",
    "**Note:** Describing the details of xarray operations is well beyond the scope of this tutorial, but feel free to check [Pangeo Tutorial for 2018 UCAR Conference](https://github.com/pangeo-data/pangeo-tutorial-sea-2018)."
   ]
  },
  {
   "cell_type": "code",
   "execution_count": null,
   "metadata": {},
   "outputs": [],
   "source": [
    "import numpy as np\n",
    "import xarray as xr\n",
    "import holoviews as hv\n",
    "import geoviews as gv\n",
    "import geoviews.feature as gf\n",
    "from cartopy import crs\n",
    "from holoext.bokeh import Mod\n",
    "import warnings\n",
    "warnings.filterwarnings('ignore')\n",
    "hv.extension('matplotlib', 'bokeh')"
   ]
  },
  {
   "cell_type": "markdown",
   "metadata": {},
   "source": [
    "## Setting some notebook-wide options\n",
    "\n",
    "Let's start by setting some normalization options (discussed below) and always enable colorbars for the elements we will be displaying: "
   ]
  },
  {
   "cell_type": "code",
   "execution_count": null,
   "metadata": {},
   "outputs": [],
   "source": [
    "%opts Image {+framewise} [colorbar=True] Curve [xrotation=60]\n",
    "%output max_frames=2000 widgets='live' size = 400\n",
    "# When working on a live server append widgets='live' to \n",
    "# the line above for greatly improved performance and memory usage "
   ]
  },
  {
   "cell_type": "markdown",
   "metadata": {},
   "source": [
    "## Load the data "
   ]
  },
  {
   "cell_type": "code",
   "execution_count": null,
   "metadata": {},
   "outputs": [],
   "source": [
    "xr_dset = xr.open_dataset('../datasets/berkeley_earth_dataset.nc')\n",
    "xr_dset"
   ]
  },
  {
   "cell_type": "markdown",
   "metadata": {},
   "source": [
    "The original data was retrieved from [Berkley Earth Project](http://berkeleyearth.org/). It consists of global surface temperatures anomalies. \n",
    "\n",
    "Due to the large size of the dataset, we will be working with a small sample of the full data. This slicing will be done along the time coordinate.\n"
   ]
  },
  {
   "cell_type": "code",
   "execution_count": null,
   "metadata": {},
   "outputs": [],
   "source": [
    " # Get the last 80 time coordinate values\n",
    "dset = xr_dset.isel(time=slice(1900, None))\n",
    "dset"
   ]
  },
  {
   "cell_type": "markdown",
   "metadata": {},
   "source": [
    "## Declaring the dataset \n",
    "\n",
    "In a gridded dataset the dimensions are typically alreay declared unambiguously, with **coordinates** (i.e. key dimensions) and **data variables** (i.e. value dimensions) that HoloViews can determine automatically. We can easily wrap this xarray data structure as a GeoViews Dataset:"
   ]
  },
  {
   "cell_type": "code",
   "execution_count": null,
   "metadata": {},
   "outputs": [],
   "source": [
    "kdims = ['time', 'latitude', 'longitude']\n",
    "vdims = ['temperature']"
   ]
  },
  {
   "cell_type": "code",
   "execution_count": null,
   "metadata": {},
   "outputs": [],
   "source": [
    "# create a geoviews dataset object with corresponding geographic projection \n",
    "xr_dataset = gv.Dataset(dset, kdims=kdims, vdims=vdims, crs=crs.PlateCarree())"
   ]
  },
  {
   "cell_type": "markdown",
   "metadata": {},
   "source": [
    "Notice how we also had to specify the coordinate reference system ( crs ). This is because xarray does not extract a coordinate system from the data."
   ]
  },
  {
   "cell_type": "code",
   "execution_count": null,
   "metadata": {},
   "outputs": [],
   "source": [
    "print(xr_dataset)"
   ]
  },
  {
   "cell_type": "markdown",
   "metadata": {},
   "source": [
    "## Conversions\n",
    "\n",
    "As we saw in [end-to-end example 1](http://nbviewer.jupyter.org/github/andersy005/beyond-matplotlib-tutorial-sea-2018/blob/233ae61968527e739caa928355dbe5a913785d64/notebooks/04-hv-end-to-end-example-1.ipynb), the `dataset.to` interface makes using different visualization elements especially easy. To use it, you supply the Element type that you want to view the data as and the key dimensions of that view and it will figure out the rest. \n",
    "\n",
    "Depending on the type of Element, you can specify one or more dimensions to be displayed. GeoViews provides a set of GeoElements that allow you to display geographic data on a cartographic projection, but you can use any Elements from HoloViews for non-geographic plots.\n",
    "\n"
   ]
  },
  {
   "cell_type": "markdown",
   "metadata": {},
   "source": [
    "### A Simple example"
   ]
  },
  {
   "cell_type": "markdown",
   "metadata": {},
   "source": [
    "\n",
    "To visualize the datasets, in a single line of code we can specify that we want to view it as a collection of Images indexed by longitude and latitude (a HoloViews `HoloMap` of `gv.Image` elements): "
   ]
  },
  {
   "cell_type": "code",
   "execution_count": null,
   "metadata": {
    "scrolled": true
   },
   "outputs": [],
   "source": [
    "img = xr_dataset.to(gv.Image, kdims=['longitude', 'latitude'], dynamic=True) * gf.coastline\n",
    "img"
   ]
  },
  {
   "cell_type": "markdown",
   "metadata": {},
   "source": [
    "Using `dynamic` mode means that the data for each frame is only extracted when you're actually viewing that part of the data, which can have huge benefits in terms of speed and memory consumption. However, it relies on having a running Python process to render and serve each image, and so it cannot be used when generating static HTML output."
   ]
  },
  {
   "cell_type": "markdown",
   "metadata": {},
   "source": [
    "### Layout of `LineContours` , `FilledContours` , and `Points` "
   ]
  },
  {
   "cell_type": "markdown",
   "metadata": {},
   "source": [
    "we can visualize the geographic data in a number of ways, currently either as an `Image` (as above) or as `LineContours` , F`illedContours` , or `Points`: "
   ]
  },
  {
   "cell_type": "code",
   "execution_count": null,
   "metadata": {},
   "outputs": [],
   "source": [
    "%%opts Points [color_index=2 size_index=None] (cmap='jet')\n",
    "hv.Layout([\n",
    "    xr_dataset.to(el, kdims=['longitude', 'latitude'], dynamic=True) * gf.coastline\n",
    "    for el in [gv.FilledContours, gv.LineContours, gv.Points]\n",
    "]).cols(1)"
   ]
  },
  {
   "cell_type": "markdown",
   "metadata": {},
   "source": [
    "## Overlaying data and normalization \n",
    "\n",
    "Let's view the surface temperatures together with the global coastline: \n"
   ]
  },
  {
   "cell_type": "code",
   "execution_count": null,
   "metadata": {},
   "outputs": [],
   "source": [
    "%%opts Image [projection=crs.Geostationary(central_longitude=-90)] (cmap='jet') Overlay [xaxis=None yaxis=None]\n",
    "xr_dataset.to(gv.Image, ['longitude', 'latitude'], dynamic=True) * gf.coastline"
   ]
  },
  {
   "cell_type": "markdown",
   "metadata": {},
   "source": [
    "Notice that every frame individually uses the full dynamic range of the jet color map. This is because normalization is set to `+framewise` at the top of the notebook, which means every frame is normalized independently. This sort of normalization can be computed on an as-needed basis, using whatever values are found in the current data being shown in a given frame, but it won't let you see how different frames compare to each other. "
   ]
  },
  {
   "cell_type": "markdown",
   "metadata": {},
   "source": [
    "## Projections\n",
    "\n",
    "The geoviews package provides a library of Element types which make it very easy to plot data on various geographic projections. \n",
    "\n",
    "With the `matplotlib` backend you can choose between any of the available cartopy projections\n",
    "\n",
    "`projections = [crs.RotatedPole, crs.Mercator, crs.LambertCylindrical, crs.Geostationary, \n",
    "               crs.AzimuthalEquidistant, crs.OSGB, crs.EuroPP, crs.Gnomonic, crs.PlateCarree, \n",
    "               crs.Mollweide, crs.OSNI, crs.Miller, crs.InterruptedGoodeHomolosine,\n",
    "               crs.LambertConformal, crs.SouthPolarStereo, crs.AlbersEqualArea, crs.Orthographic,\n",
    "               crs.NorthPolarStereo, crs.Robinson]\n",
    "`"
   ]
  },
  {
   "cell_type": "code",
   "execution_count": null,
   "metadata": {},
   "outputs": [],
   "source": [
    "%%opts Image [projection=crs.Robinson()] (cmap='viridis') Overlay [xaxis=None yaxis=None]\n",
    "xr_dataset.to(gv.Image, ['longitude', 'latitude'], dynamic=True) * gf.coastline"
   ]
  },
  {
   "cell_type": "code",
   "execution_count": null,
   "metadata": {},
   "outputs": [],
   "source": [
    "%%opts Image [projection=crs.LambertConformal()] (cmap='viridis') Overlay [xaxis=None yaxis=None]\n",
    "xr_dataset.to(gv.Image, ['longitude', 'latitude'], dynamic=True) * gf.coastline"
   ]
  },
  {
   "cell_type": "code",
   "execution_count": null,
   "metadata": {},
   "outputs": [],
   "source": [
    "# Exercise (Optional) Change the projection to one of your choosing with a different `cmap (colormap)`\n",
    "# Hint: You can find accepted colormaps values at https://matplotlib.org/users/colormaps.html"
   ]
  },
  {
   "cell_type": "markdown",
   "metadata": {},
   "source": [
    "## Non-geographic views"
   ]
  },
  {
   "cell_type": "markdown",
   "metadata": {},
   "source": [
    "So far we have focused entirely on geographic views of the data, plotting the data on a projection. However the conversion interface is completely general, allowing us to slice and dice the data in any way we like. For these views we will switch to the bokeh plotting extension: "
   ]
  },
  {
   "cell_type": "code",
   "execution_count": null,
   "metadata": {},
   "outputs": [],
   "source": [
    "%output backend='bokeh'"
   ]
  },
  {
   "cell_type": "code",
   "execution_count": null,
   "metadata": {},
   "outputs": [],
   "source": [
    "curve = xr_dataset.to(hv.Curve, kdims=['time'], dynamic=True)\n",
    "Mod(xrotation=25, width=600, height=400, ylabel='Temperature Anomalies', xlabel='Time').apply(curve)"
   ]
  },
  {
   "cell_type": "code",
   "execution_count": null,
   "metadata": {},
   "outputs": [],
   "source": [
    "dist = xr_dataset.to(hv.Distribution, kdims='temperature', groupby='time', dynamic=True)\n",
    "Mod().apply(dist)"
   ]
  },
  {
   "cell_type": "markdown",
   "metadata": {},
   "source": [
    "\n",
    "## Reducing the data\n",
    "\n",
    "### Selecting a particular coordinate\n",
    "\n",
    "To examine one particular coordinate, we can select it, cast the data to Curves, reindex the data to drop the now-constant latitude and longitude dimensions."
   ]
  },
  {
   "cell_type": "code",
   "execution_count": null,
   "metadata": {},
   "outputs": [],
   "source": [
    "coord = xr_dataset.select(latitude=-14.5, longitude=9.5).to(hv.Curve, ['time'])\n",
    "Mod(xlabel='Time',\n",
    "    ylabel='Temperature Anomalies',\n",
    "    title='Longitude=9.5, Latitude=-14.5').apply(coord)"
   ]
  },
  {
   "cell_type": "markdown",
   "metadata": {},
   "source": [
    "### Aggregating coordinates\n",
    "\n",
    "Another option is to aggregate over certain dimensions, so that we can get an idea of distributions of temperature anomalies across all latitudes and longitudes. Here we compute the mean temperature anomaly and standard deviation by latitude and longitude, casting the resulting collapsed view to a Spread Element:\n"
   ]
  },
  {
   "cell_type": "code",
   "execution_count": null,
   "metadata": {},
   "outputs": [],
   "source": [
    "lat = hv.Spread(xr_dataset.aggregate('latitude', np.mean, np.std))\n",
    "lon = hv.Spread(xr_dataset.aggregate('longitude', np.mean, np.std))\n",
    "Mod(ylabel= 'Temperature Anomalies').apply(lat + lon)"
   ]
  },
  {
   "cell_type": "markdown",
   "metadata": {},
   "source": [
    "As you can see, with GeoViews and HoloViews it is very simple to select precisely which aspects of complex, multidimensional datasets that you want to focus on. "
   ]
  },
  {
   "cell_type": "markdown",
   "metadata": {},
   "source": [
    "## Take-away\n",
    "\n",
    "As you can see, it's quite simple to expose any data you like from xarray, easily and flexibly creating interactive or static visualizations. "
   ]
  }
 ],
 "metadata": {
  "kernelspec": {
   "display_name": "Python 3",
   "language": "python",
   "name": "python3"
  },
  "language_info": {
   "codemirror_mode": {
    "name": "ipython",
    "version": 3
   },
   "file_extension": ".py",
   "mimetype": "text/x-python",
   "name": "python",
   "nbconvert_exporter": "python",
   "pygments_lexer": "ipython3",
   "version": "3.6.4"
  },
  "toc": {
   "nav_menu": {},
   "number_sections": true,
   "sideBar": true,
   "skip_h1_title": false,
   "title_cell": "Table of Contents",
   "title_sidebar": "Contents",
   "toc_cell": true,
   "toc_position": {},
   "toc_section_display": true,
   "toc_window_display": false
  }
 },
 "nbformat": 4,
 "nbformat_minor": 2
}
