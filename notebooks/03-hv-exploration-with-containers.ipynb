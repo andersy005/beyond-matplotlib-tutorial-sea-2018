{
 "cells": [
  {
   "cell_type": "markdown",
   "metadata": {
    "slideshow": {
     "slide_type": "slide"
    },
    "toc": true
   },
   "source": [
    "<h1>Table of Contents<span class=\"tocSkip\"></span></h1>\n",
    "<div class=\"toc\"><ul class=\"toc-item\"><li><span><a href=\"#Exploration-with-Containers\" data-toc-modified-id=\"Exploration-with-Containers-1\"><span class=\"toc-item-num\">1&nbsp;&nbsp;</span>Exploration with Containers</a></span><ul class=\"toc-item\"><li><span><a href=\"#Declaring-elements-in-a-function\" data-toc-modified-id=\"Declaring-elements-in-a-function-1.1\"><span class=\"toc-item-num\">1.1&nbsp;&nbsp;</span>Declaring elements in a function</a></span></li><li><span><a href=\"#HoloMaps\" data-toc-modified-id=\"HoloMaps-1.2\"><span class=\"toc-item-num\">1.2&nbsp;&nbsp;</span>HoloMaps</a></span><ul class=\"toc-item\"><li><span><a href=\"#Summary\" data-toc-modified-id=\"Summary-1.2.1\"><span class=\"toc-item-num\">1.2.1&nbsp;&nbsp;</span>Summary</a></span></li></ul></li><li><span><a href=\"#DynamicMap\" data-toc-modified-id=\"DynamicMap-1.3\"><span class=\"toc-item-num\">1.3&nbsp;&nbsp;</span>DynamicMap</a></span></li><li><span><a href=\"#Faceting-parameter-spaces\" data-toc-modified-id=\"Faceting-parameter-spaces-1.4\"><span class=\"toc-item-num\">1.4&nbsp;&nbsp;</span>Faceting parameter spaces</a></span><ul class=\"toc-item\"><li><span><a href=\"#Casting\" data-toc-modified-id=\"Casting-1.4.1\"><span class=\"toc-item-num\">1.4.1&nbsp;&nbsp;</span>Casting</a></span></li></ul></li><li><span><a href=\"#Attribution\" data-toc-modified-id=\"Attribution-1.5\"><span class=\"toc-item-num\">1.5&nbsp;&nbsp;</span>Attribution</a></span></li><li><span><a href=\"#Onwards\" data-toc-modified-id=\"Onwards-1.6\"><span class=\"toc-item-num\">1.6&nbsp;&nbsp;</span>Onwards</a></span></li></ul></li></ul></div>"
   ]
  },
  {
   "cell_type": "markdown",
   "metadata": {
    "slideshow": {
     "slide_type": "slide"
    }
   },
   "source": [
    "<br>\n",
    "<img src=\"https://i.imgur.com/gvrbAjo.png\" width=\"50%\" style=\"margin: 0px 25%\">"
   ]
  },
  {
   "cell_type": "markdown",
   "metadata": {
    "slideshow": {
     "slide_type": "subslide"
    }
   },
   "source": [
    "# Exploration with Containers"
   ]
  },
  {
   "cell_type": "markdown",
   "metadata": {},
   "source": [
    "In the first two sections of this tutorial we discovered how to declare static elements and compose them one by one into composite objects, allowing us to quickly visualize data as we explore it. However, many datasets contain numerous additional dimensions of data, such as the same measurement repeated across a large number of different settings or parameter values. To address these common situations, HoloViews provides ontainers that allow you to explore extra dimensions of your data using widgets, as animations, or by \"faceting\" it (splitting it into [\"small multiples\"](https://en.wikipedia.org/wiki/Small_multiple)) in various ways.\n",
    " \n",
    "To begin with we will discover how we can quickly explore the parameters of a function by having it return an element and then evaluating the function over the parameter space.\n",
    "\n"
   ]
  },
  {
   "cell_type": "code",
   "execution_count": null,
   "metadata": {},
   "outputs": [],
   "source": [
    "import numpy as np\n",
    "import holoviews as hv\n",
    "hv.extension('bokeh')\n",
    "from holoext.bokeh import Mod"
   ]
  },
  {
   "cell_type": "markdown",
   "metadata": {},
   "source": [
    "## Declaring elements in a function"
   ]
  },
  {
   "cell_type": "markdown",
   "metadata": {},
   "source": [
    "If we write a function that accepts one or more parameters and constructs an element, we can build plots that do things like:\n",
    " \n",
    "* Loading data from disk as needed\n",
    "* Querying data from an API\n",
    "* Calculating data from a mathematical function\n",
    "* Generating data from a simulation\n",
    "\n",
    "As a basic example, let's declare a function that generates a frequency-modulated signal and returns a [``Curve``](http://holoviews.org/reference/elements/bokeh/Curve.html) element:\n"
   ]
  },
  {
   "cell_type": "code",
   "execution_count": null,
   "metadata": {},
   "outputs": [],
   "source": [
    "def fm_modulation(f_carrier=110,\n",
    "                  f_mod=110,\n",
    "                  mod_index=1,\n",
    "                  length=0.1,\n",
    "                  sampleRate=3000):\n",
    "    x = np.arange(0, length, 1.0 / sampleRate)\n",
    "    y = np.sin(\n",
    "        2 * np.pi * f_carrier * x + mod_index * np.sin(2 * np.pi * f_mod * x))\n",
    "    return hv.Curve((x, y), kdims=['Time'], vdims=['Amplitude'])"
   ]
  },
  {
   "cell_type": "markdown",
   "metadata": {},
   "source": [
    "The function defines a number of parameters that will change the signal, but using the default parameters the function outputs a Curve like this:"
   ]
  },
  {
   "cell_type": "code",
   "execution_count": null,
   "metadata": {},
   "outputs": [],
   "source": [
    "Mod().apply(fm_modulation())"
   ]
  },
  {
   "cell_type": "markdown",
   "metadata": {},
   "source": [
    "## HoloMaps"
   ]
  },
  {
   "cell_type": "markdown",
   "metadata": {},
   "source": [
    "The ``HoloMap`` is the first container type we will start working with, because it is often the starting point of a parameter exploration. HoloMaps allow exploring a parameter space sampled at specific, discrete values, and can easily be created using a dictionary comprehension. When declaring a [``HoloMap``](http://holoviews.org/reference/containers/bokeh/HoloMap.html), just ensure the length and ordering of the key tuple matches the key dimensions:\n"
   ]
  },
  {
   "cell_type": "code",
   "execution_count": null,
   "metadata": {},
   "outputs": [],
   "source": [
    "carrier_frequencies = [10, 20, 110, 220, 330]\n",
    "modulation_frequencies = [110, 220, 330]\n",
    "\n",
    "hmap = hv.HoloMap(\n",
    "    {(fc, fm): fm_modulation(fc, fm)\n",
    "     for fc in carrier_frequencies for fm in modulation_frequencies},\n",
    "    kdims=['fc', 'fm'])\n",
    "Mod().apply(hmap)"
   ]
  },
  {
   "cell_type": "markdown",
   "metadata": {},
   "source": [
    " Note how the keys in our ``HoloMap`` map on to two automatically generated sliders. HoloViews supports two types of widgets by default: numeric sliders, or a dropdown selection menu for all non-numeric types. These sliders appear because a HoloMap can display only a single Element at one time, and the user must thus select which of the available elements to show at any one time.\n"
   ]
  },
  {
   "cell_type": "code",
   "execution_count": null,
   "metadata": {},
   "outputs": [],
   "source": [
    "# Exercise: Try changing the function below to return an ``Area`` or ``Scatter`` element,\n",
    "# in the same way `fm_modulation` returned a ``Curve`` element.\n",
    "def fm_modulation2(f_carrier=220,\n",
    "                   f_mod=110,\n",
    "                   mod_index=1,\n",
    "                   length=0.1,\n",
    "                   sampleRate=3000):\n",
    "    x = np.arange(0, length, 1.0 / sampleRate)\n",
    "    y = np.sin(\n",
    "        2 * np.pi * f_carrier * x + mod_index * np.sin(2 * np.pi * f_mod * x))"
   ]
  },
  {
   "cell_type": "code",
   "execution_count": null,
   "metadata": {},
   "outputs": [],
   "source": [
    "# Then declare a HoloMap like above and assign it to a ``exercise_hmap`` variable and display that"
   ]
  },
  {
   "cell_type": "markdown",
   "metadata": {},
   "source": [
    "Apart from their simplicity and generality, one of the key features of HoloMaps is that they can be exported to a static HTML file, GIF, or video, because every combination of the sliders (parameter values) has been pre-computed already.  This very convenient feature of pre-computation becomes a liability for very large or densely sampled parameter spaces, however, leading to the DynamicMap type discussed next."
   ]
  },
  {
   "cell_type": "markdown",
   "metadata": {},
   "source": [
    "### Summary\n",
    " \n",
    "* HoloMaps allow declaring a parameter space\n",
    "* The default widgets provide a slider for numeric types and a dropdown menu for non-numeric types.\n",
    "* HoloMap works well for small or sparsely sampled parameter spaces, exporting to static files\n"
   ]
  },
  {
   "cell_type": "markdown",
   "metadata": {},
   "source": [
    "## DynamicMap"
   ]
  },
  {
   "cell_type": "markdown",
   "metadata": {},
   "source": [
    "A [``DynamicMap``]((holoviews.org/reference/containers/bokeh/DynamicMap.html) is very similar to a ``HoloMap`` except that it evaluates the function lazily. This property makes DynamicMap require a live, running Python server, not just an HTML-serving web site or email, and it may be slow if each frame is slower to compute than it is to display.  However, because of these properties, DynamicMap allows exploring arbitrarily large parameter spaces, dynamically generating each element as needed to satisfy a request from the user. The key dimensions ``kdims`` must match the arguments of the function:"
   ]
  },
  {
   "cell_type": "code",
   "execution_count": null,
   "metadata": {},
   "outputs": [],
   "source": [
    "%%opts Curve (color='red')\n",
    "dmap = hv.DynamicMap(fm_modulation, kdims=['f_carrier', 'f_mod', 'mod_index'])\n",
    "dmap = dmap.redim.range(\n",
    "    f_carrier=((10, 110)), f_mod=(10, 110), mod_index=(0.1, 2))\n",
    "Mod().apply(dmap)"
   ]
  },
  {
   "cell_type": "code",
   "execution_count": null,
   "metadata": {},
   "outputs": [],
   "source": [
    "# Exercise: Declare a DynamicMap using the function from the previous exercise and name it ``exercise_dmap``"
   ]
  },
  {
   "cell_type": "code",
   "execution_count": null,
   "metadata": {},
   "outputs": [],
   "source": [
    "# Exercise (Optional): Use the ``.redim.step`` method and a floating point range to modify the slider step"
   ]
  },
  {
   "cell_type": "markdown",
   "metadata": {},
   "source": [
    "## Faceting parameter spaces\n",
    "\n",
    "### Casting "
   ]
  },
  {
   "cell_type": "markdown",
   "metadata": {},
   "source": [
    " HoloMaps and DynamicMaps let you explore a multidimensional parameter space by looking at one point in that space at a time, which is often but not always sufficient. If you want to see more data at once, you can facet the HoloMap to put some data points side by side or overlaid to facilitate comparison.  One easy way to do that is to cast your HoloMap into a [``GridSpace``](http://holoviews.org/reference/elements/bokeh/GridSpace.html), [``NdLayout``](http://holoviews.org/reference/elements/bokeh/NdLayout.html), or [``NdOverlay``](http://holoviews.org/reference/elements/bokeh/NdOverlay.html) container:\n"
   ]
  },
  {
   "cell_type": "code",
   "execution_count": null,
   "metadata": {},
   "outputs": [],
   "source": [
    "Mod(width=150).apply(hv.GridSpace(hmap))"
   ]
  },
  {
   "cell_type": "code",
   "execution_count": null,
   "metadata": {},
   "outputs": [],
   "source": [
    "# Exercise: Try casting your ``exercise_hmap`` HoloMap from the first exercise to an ``NdLayout`` or \n",
    "# ``NdOverlay``, guessing from the name what the resulting organization will be before testing it."
   ]
  },
  {
   "cell_type": "markdown",
   "metadata": {},
   "source": [
    "## Attribution\n",
    "\n",
    "The content for this section is adapted from scipy 2017 holoviews tutorial. \n",
    "\n",
    "## Onwards\n",
    " \n",
    " * Learn more about using HoloMaps and other containers in the [Dimensioned Containers](http://holoviews.org/user_guide/Dimensioned_Containers.html) user guide\n",
    " * Learn more about working with DynamicMap in the [Live Data](http://holoviews.org/user_guide/Live_Data.html) user guide."
   ]
  }
 ],
 "metadata": {
  "kernelspec": {
   "display_name": "Python 3",
   "language": "python",
   "name": "python3"
  },
  "language_info": {
   "codemirror_mode": {
    "name": "ipython",
    "version": 3
   },
   "file_extension": ".py",
   "mimetype": "text/x-python",
   "name": "python",
   "nbconvert_exporter": "python",
   "pygments_lexer": "ipython3",
   "version": "3.6.4"
  },
  "toc": {
   "nav_menu": {},
   "number_sections": true,
   "sideBar": true,
   "skip_h1_title": false,
   "title_cell": "Table of Contents",
   "title_sidebar": "Contents",
   "toc_cell": true,
   "toc_position": {},
   "toc_section_display": true,
   "toc_window_display": false
  }
 },
 "nbformat": 4,
 "nbformat_minor": 2
}
