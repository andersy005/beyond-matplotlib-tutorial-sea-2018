{
 "cells": [
  {
   "cell_type": "markdown",
   "metadata": {
    "slideshow": {
     "slide_type": "notes"
    },
    "toc": true
   },
   "source": [
    "<h1>Table of Contents<span class=\"tocSkip\"></span></h1>\n",
    "<div class=\"toc\"><ul class=\"toc-item\"><li><span><a href=\"#Customizing-Visual-Appearance\" data-toc-modified-id=\"Customizing-Visual-Appearance-1\"><span class=\"toc-item-num\">1&nbsp;&nbsp;</span>Customizing Visual Appearance</a></span><ul class=\"toc-item\"><li><span><a href=\"#Preliminaries\" data-toc-modified-id=\"Preliminaries-1.1\"><span class=\"toc-item-num\">1.1&nbsp;&nbsp;</span>Preliminaries</a></span></li><li><span><a href=\"#Visualizing-weather-station-data\" data-toc-modified-id=\"Visualizing-weather-station-data-1.2\"><span class=\"toc-item-num\">1.2&nbsp;&nbsp;</span>Visualizing weather station data</a></span></li><li><span><a href=\"#Types-of-option\" data-toc-modified-id=\"Types-of-option-1.3\"><span class=\"toc-item-num\">1.3&nbsp;&nbsp;</span>Types of option</a></span><ul class=\"toc-item\"><li><span><a href=\"#Plot-options\" data-toc-modified-id=\"Plot-options-1.3.1\"><span class=\"toc-item-num\">1.3.1&nbsp;&nbsp;</span>Plot options</a></span><ul class=\"toc-item\"><li><span><a href=\"#Aside:-hv.help\" data-toc-modified-id=\"Aside:-hv.help-1.3.1.1\"><span class=\"toc-item-num\">1.3.1.1&nbsp;&nbsp;</span>Aside: <code>hv.help</code></a></span></li></ul></li><li><span><a href=\"#Style-Options\" data-toc-modified-id=\"Style-Options-1.3.2\"><span class=\"toc-item-num\">1.3.2&nbsp;&nbsp;</span>Style Options</a></span></li></ul></li><li><span><a href=\"#Switching-to-matplotlib\" data-toc-modified-id=\"Switching-to-matplotlib-1.4\"><span class=\"toc-item-num\">1.4&nbsp;&nbsp;</span>Switching to matplotlib</a></span><ul class=\"toc-item\"><li><span><a href=\"#The-%output-line-magic\" data-toc-modified-id=\"The-%output-line-magic-1.4.1\"><span class=\"toc-item-num\">1.4.1&nbsp;&nbsp;</span>The <code>%output</code> line magic</a></span></li></ul></li><li><span><a href=\"#Switching-back-to-bokeh\" data-toc-modified-id=\"Switching-back-to-bokeh-1.5\"><span class=\"toc-item-num\">1.5&nbsp;&nbsp;</span>Switching back to bokeh</a></span></li><li><span><a href=\"#Onwards\" data-toc-modified-id=\"Onwards-1.6\"><span class=\"toc-item-num\">1.6&nbsp;&nbsp;</span>Onwards</a></span></li></ul></li></ul></div>"
   ]
  },
  {
   "cell_type": "markdown",
   "metadata": {
    "slideshow": {
     "slide_type": "slide"
    }
   },
   "source": [
    "<br>\n",
    "<img src=\"https://i.imgur.com/gvrbAjo.png\" width=\"50%\" style=\"margin: 0px 25%\">"
   ]
  },
  {
   "cell_type": "markdown",
   "metadata": {
    "slideshow": {
     "slide_type": "fragment"
    }
   },
   "source": [
    "# Customizing Visual Appearance"
   ]
  },
  {
   "cell_type": "markdown",
   "metadata": {
    "slideshow": {
     "slide_type": "fragment"
    }
   },
   "source": [
    "[Section 01](01-hv-introduction-to-elements.ipynb) focused on specifying elements and simple collections of them.  This section explains how the visual appearance can be adjusted to bring out the most salient aspects of your data, or just to make the style match the overall theme of your document."
   ]
  },
  {
   "cell_type": "markdown",
   "metadata": {
    "slideshow": {
     "slide_type": "slide"
    }
   },
   "source": [
    "## Preliminaries\n"
   ]
  },
  {
   "cell_type": "markdown",
   "metadata": {
    "slideshow": {
     "slide_type": "fragment"
    }
   },
   "source": [
    "In the [introduction to elements](01-hv-introduction-to-elements.ipynb), ``hv.extension('bokeh')`` was used at the start to load and activate the bokeh plotting extension. In this notebook, we will also briefly use [matplotlib](www.matplotlib.org) which we will load, but not yet activate, by listing it second:\n"
   ]
  },
  {
   "cell_type": "code",
   "execution_count": null,
   "metadata": {
    "slideshow": {
     "slide_type": "fragment"
    }
   },
   "outputs": [],
   "source": [
    "import numpy as np\n",
    "import pandas as pd \n",
    "import holoviews as hv\n",
    "import warnings\n",
    "warnings.filterwarnings('ignore')\n",
    "hv.extension('bokeh', 'matplotlib')"
   ]
  },
  {
   "cell_type": "markdown",
   "metadata": {
    "slideshow": {
     "slide_type": "slide"
    }
   },
   "source": [
    "## Visualizing weather station data"
   ]
  },
  {
   "cell_type": "code",
   "execution_count": null,
   "metadata": {
    "slideshow": {
     "slide_type": "fragment"
    }
   },
   "outputs": [],
   "source": [
    "df = pd.read_parquet('../datasets/weather_station_data.parquet')\n",
    "df.head()"
   ]
  },
  {
   "cell_type": "code",
   "execution_count": null,
   "metadata": {
    "slideshow": {
     "slide_type": "subslide"
    }
   },
   "outputs": [],
   "source": [
    "# select data for Midway station only \n",
    "midway = df[df['station'] == 'MDW'].set_index('date')\n",
    "\n",
    "# Compute a 7-day rolling(moving) average \n",
    "midway = midway.rolling(window=7, center=True, min_periods=4).mean().reset_index()\n",
    "midway.head()"
   ]
  },
  {
   "cell_type": "code",
   "execution_count": null,
   "metadata": {
    "slideshow": {
     "slide_type": "fragment"
    }
   },
   "outputs": [],
   "source": [
    "midway.tail()"
   ]
  },
  {
   "cell_type": "code",
   "execution_count": null,
   "metadata": {
    "slideshow": {
     "slide_type": "subslide"
    }
   },
   "outputs": [],
   "source": [
    "curves = hv.Curve(midway, 'date', 'min_temp_f', label='Max Temp', group='MDW') * \\\n",
    "         hv.Curve(midway, 'date', 'max_temp_f', label='Min Temp', group='MDW')\n",
    "curves "
   ]
  },
  {
   "cell_type": "markdown",
   "metadata": {
    "slideshow": {
     "slide_type": "slide"
    }
   },
   "source": [
    "## Types of option \n",
    "\n",
    "If we want to change the appearance of what we can already see in the plot, we're no longer focusing on the data and metadata stored in the elements, but about details of the presentation.  Details specific to the final plot are handled by the separate \"options\" system, not the element objects.  HoloViews allows you to set three types of options:\n",
    "\n",
    "* **plot options**: Options that tell *HoloViews* how to *construct* the plot.\n",
    "* **style options**: Options that tell the underlying *plotting extension* (Bokeh, matplotlib, etc.) how to *style* the plot\n",
    "* **normalization options**: Options that tell *HoloViews* how to *normalize* the various elements in the plot against each other (not covered in this tutorial)\n"
   ]
  },
  {
   "cell_type": "markdown",
   "metadata": {
    "slideshow": {
     "slide_type": "subslide"
    }
   },
   "source": [
    "### Plot options"
   ]
  },
  {
   "cell_type": "markdown",
   "metadata": {
    "slideshow": {
     "slide_type": "fragment"
    }
   },
   "source": [
    "We noted that the data is too compressed in the x direction. Let us fix\n",
    "that by specifying the ``width`` plot option:"
   ]
  },
  {
   "cell_type": "code",
   "execution_count": null,
   "metadata": {
    "slideshow": {
     "slide_type": "subslide"
    }
   },
   "outputs": [],
   "source": [
    "%%opts Curve [width=900]\n",
    "curves "
   ]
  },
  {
   "cell_type": "markdown",
   "metadata": {
    "slideshow": {
     "slide_type": "fragment"
    }
   },
   "source": [
    "The top line uses a special IPython/Jupyter syntax called the ``%%opts`` *cell magic* to specify the ``width`` plot option for all [``Curve``](http://build.holoviews.org/reference/elements/bokeh/Curve.html) objects in this cell.  ``%%opts`` accepts a simple specification where we pass the ``width=900`` keyword argument to  [``Curve``](http://build.holoviews.org/reference/elements/bokeh/Curve.html) as a plot option (denoted by the *square brackets*)."
   ]
  },
  {
   "cell_type": "markdown",
   "metadata": {
    "slideshow": {
     "slide_type": "subslide"
    }
   },
   "source": [
    "Of course, there are other ways of applying options in HoloViews that do not require this IPython-specific syntax, but for this tutorial, we will only be covering the more-convenient syntax by using a holoviews extension module called **[holoext](https://github.com/ahuang11/holoext)** . You can read about the alternative approaches in the [user guide](http://holoviews.org/user_guide/Customizing_Plots.html)."
   ]
  },
  {
   "cell_type": "code",
   "execution_count": null,
   "metadata": {
    "slideshow": {
     "slide_type": "fragment"
    }
   },
   "outputs": [],
   "source": [
    "from holoext.bokeh import Mod\n",
    "Mod(width=900).apply(curves)"
   ]
  },
  {
   "cell_type": "code",
   "execution_count": null,
   "metadata": {
    "slideshow": {
     "slide_type": "subslide"
    }
   },
   "outputs": [],
   "source": [
    "# Exercise: Try setting the height plot option of the Curve above."
   ]
  },
  {
   "cell_type": "code",
   "execution_count": null,
   "metadata": {
    "slideshow": {
     "slide_type": "subslide"
    }
   },
   "outputs": [],
   "source": [
    "# Exercise: Try disabling the boolean show_grid plot option for the curve above\n",
    "Mod()"
   ]
  },
  {
   "cell_type": "code",
   "execution_count": null,
   "metadata": {
    "slideshow": {
     "slide_type": "subslide"
    }
   },
   "outputs": [],
   "source": [
    "# Exercise: Try set the x-axis label rotation (in degrees) with the xrotation plot option"
   ]
  },
  {
   "cell_type": "markdown",
   "metadata": {
    "slideshow": {
     "slide_type": "subslide"
    }
   },
   "source": [
    "To find out which options you can set with holoext, here is the docstring of the `Mod()` module:\n",
    "\n",
    "\n",
    "![](https://i.imgur.com/4vqcNOl.png)"
   ]
  },
  {
   "cell_type": "markdown",
   "metadata": {
    "slideshow": {
     "slide_type": "fragment"
    }
   },
   "source": [
    "You can get this docstring inside the notebook by doing the following:\n",
    "\n",
    "`Mod()` + `shift` + `tab`"
   ]
  },
  {
   "cell_type": "markdown",
   "metadata": {
    "slideshow": {
     "slide_type": "subslide"
    }
   },
   "source": [
    "#### Aside: ``hv.help``\n",
    "\n",
    "Tab completion helps discover what keywords are available but you can get more complete help using the ``hv.help`` utility. For instance, to learn more about the options for ``hv.Curve`` run ``hv.help(hv.Curve)``:"
   ]
  },
  {
   "cell_type": "code",
   "execution_count": null,
   "metadata": {
    "slideshow": {
     "slide_type": "fragment"
    }
   },
   "outputs": [],
   "source": [
    "# hv.help(hv.Curve)"
   ]
  },
  {
   "cell_type": "markdown",
   "metadata": {
    "slideshow": {
     "slide_type": "subslide"
    }
   },
   "source": [
    "### Style Options"
   ]
  },
  {
   "cell_type": "markdown",
   "metadata": {
    "slideshow": {
     "slide_type": "fragment"
    }
   },
   "source": [
    "The plot options earlier instructed HoloViews to build a plot 900 pixels wide, when rendered with the Bokeh plotting extension. Now let's specify that the Bokeh glyph should be `lightseagreen`, `coral` and slightly thicker, which is information passed on directly to Bokeh (making it a style option):"
   ]
  },
  {
   "cell_type": "code",
   "execution_count": null,
   "metadata": {
    "slideshow": {
     "slide_type": "subslide"
    }
   },
   "outputs": [],
   "source": [
    "%%opts Curve (color=Cycle(values=['lightseagreen', 'coral']) line_width=2, line_dash='dotdash')\n",
    "curves"
   ]
  },
  {
   "cell_type": "markdown",
   "metadata": {
    "slideshow": {
     "slide_type": "slide"
    }
   },
   "source": [
    "## Switching to matplotlib"
   ]
  },
  {
   "cell_type": "markdown",
   "metadata": {
    "slideshow": {
     "slide_type": "fragment"
    }
   },
   "source": [
    "Let us now view our curve with matplotlib using the ``%%output`` cell magic:"
   ]
  },
  {
   "cell_type": "code",
   "execution_count": null,
   "metadata": {
    "slideshow": {
     "slide_type": "subslide"
    }
   },
   "outputs": [],
   "source": [
    "%%output backend='matplotlib'\n",
    "curves"
   ]
  },
  {
   "cell_type": "markdown",
   "metadata": {
    "slideshow": {
     "slide_type": "fragment"
    }
   },
   "source": [
    "All our options are gone! This is because the options are associated with the corresponding plotting extension---if you switch back to 'bokeh', the options will be applicable again. In general, options have to be specific to backends; e.g. the ``line_width`` style option accepted by Bokeh is called ``linewidth`` in matplotlib:"
   ]
  },
  {
   "cell_type": "code",
   "execution_count": null,
   "metadata": {
    "slideshow": {
     "slide_type": "subslide"
    }
   },
   "outputs": [],
   "source": [
    "%%output backend='matplotlib'\n",
    "%%opts Curve [aspect=4 fig_size=400 xrotation=45] (color=Cycle(values=['lightseagreen', 'coral']) linewidth=2 linestyle='-.')\n",
    "curves\n"
   ]
  },
  {
   "cell_type": "markdown",
   "metadata": {
    "slideshow": {
     "slide_type": "subslide"
    }
   },
   "source": [
    "### The ``%output`` line magic"
   ]
  },
  {
   "cell_type": "markdown",
   "metadata": {
    "slideshow": {
     "slide_type": "fragment"
    }
   },
   "source": [
    "In the two cells above we repeated ``%%output backend='matplotlib'`` to use matplotlib to render those two cells. Instead of repeating ourselves with the cell magic, we can use a \"line magic\" (similar syntax to the cell magic but with one ``%``) to set things globally. Let us switch to matplotlib with a line magic and specify that we want SVG output:"
   ]
  },
  {
   "cell_type": "code",
   "execution_count": null,
   "metadata": {
    "slideshow": {
     "slide_type": "subslide"
    }
   },
   "outputs": [],
   "source": [
    "%output backend='matplotlib' fig='svg'"
   ]
  },
  {
   "cell_type": "markdown",
   "metadata": {
    "slideshow": {
     "slide_type": "fragment"
    }
   },
   "source": [
    "Unlike the cell magic, the line magic doesn't need to be followed by any expression and can be used anywhere in the notebook. Both the ``%output`` and ``%opts`` line magics set things globally so it is recommended you declare them at the top of your notebooks. Now let us look at the SVG matplotlib output we requested:\n"
   ]
  },
  {
   "cell_type": "code",
   "execution_count": null,
   "metadata": {
    "slideshow": {
     "slide_type": "fragment"
    }
   },
   "outputs": [],
   "source": [
    "%%opts Curve [aspect=4 fig_size=400 xrotation=45] (color=Cycle(values=['lightseagreen', 'coral']) linewidth=2 linestyle='-.')\n",
    "curves"
   ]
  },
  {
   "cell_type": "code",
   "execution_count": null,
   "metadata": {
    "slideshow": {
     "slide_type": "subslide"
    }
   },
   "outputs": [],
   "source": [
    "# Exercise: Verify for yourself that the output above is SVG and not PNG\n",
    "# You can do this by right-clicking above \n",
    "# then selecting 'Open Image in a new Tab' (Chrome) or 'View Image' (Firefox)"
   ]
  },
  {
   "cell_type": "markdown",
   "metadata": {
    "slideshow": {
     "slide_type": "slide"
    }
   },
   "source": [
    " ## Switching back to bokeh"
   ]
  },
  {
   "cell_type": "markdown",
   "metadata": {
    "slideshow": {
     "slide_type": "fragment"
    }
   },
   "source": [
    "In previous releases of HoloViews, it was typical to switch to matplotlib in order to export to PNG or SVG, because Bokeh did not support these file formats. Since [Bokeh 0.12.6](https://bokeh.github.io/blog/2017/6/13/release-0-12-6/) we can now easily use HoloViews to export Bokeh plots to a PNG file, as we will now demonstrate:\n"
   ]
  },
  {
   "cell_type": "code",
   "execution_count": null,
   "metadata": {
    "slideshow": {
     "slide_type": "fragment"
    }
   },
   "outputs": [],
   "source": [
    "%output backend='bokeh'"
   ]
  },
  {
   "cell_type": "markdown",
   "metadata": {
    "slideshow": {
     "slide_type": "fragment"
    }
   },
   "source": [
    "By passing ``fig='png'`` and a ``filename='midway_temperature'`` to ``%output`` we can both render to PNG and save the output to file:"
   ]
  },
  {
   "cell_type": "code",
   "execution_count": null,
   "metadata": {
    "slideshow": {
     "slide_type": "subslide"
    }
   },
   "outputs": [],
   "source": [
    "%%output fig='png' filename='outputs/midway_temperature'\n",
    "curves.clone()"
   ]
  },
  {
   "cell_type": "markdown",
   "metadata": {
    "slideshow": {
     "slide_type": "fragment"
    }
   },
   "source": [
    "Here we have requested PNG format using ``fig='png'`` and that the output is output to outputs/midway_temperature.png using ``filename='midway_temperature'``:"
   ]
  },
  {
   "cell_type": "code",
   "execution_count": null,
   "metadata": {
    "slideshow": {
     "slide_type": "fragment"
    }
   },
   "outputs": [],
   "source": [
    "!ls outputs/*.png"
   ]
  },
  {
   "cell_type": "markdown",
   "metadata": {
    "slideshow": {
     "slide_type": "fragment"
    }
   },
   "source": [
    "Bokeh also has some SVG support, but it is not yet exposed in HoloViews."
   ]
  },
  {
   "cell_type": "markdown",
   "metadata": {
    "slideshow": {
     "slide_type": "slide"
    }
   },
   "source": [
    "## Onwards"
   ]
  },
  {
   "cell_type": "markdown",
   "metadata": {
    "slideshow": {
     "slide_type": "fragment"
    }
   },
   "source": [
    "We have now seen some of the ways you can customize the appearance of your visualizations. You can consult [Customizing Plots](http://holoviews.org/user_guide/Customizing_Plots.html) user guide to learn about other approaches, including the ``hv.opts`` and ``hv.output`` utilities which do not rely on notebook specific syntax. One last approach worth mentioning is the ``.opts`` method which accepts a customization specification dictionary or string to customize a particular object directly. When called without any arguments ``.opts()`` clears any customizations that may be set on that object.\n",
    " \n",
    "In the [exploration with containers](./03-hv-exploration-with-containers.ipynb) section that follows, you will also see a few examples of how the appearance of elements can be customized when viewed in containers.\n"
   ]
  }
 ],
 "metadata": {
  "kernelspec": {
   "display_name": "Python 3",
   "language": "python",
   "name": "python3"
  },
  "language_info": {
   "codemirror_mode": {
    "name": "ipython",
    "version": 3
   },
   "file_extension": ".py",
   "mimetype": "text/x-python",
   "name": "python",
   "nbconvert_exporter": "python",
   "pygments_lexer": "ipython3",
   "version": "3.6.4"
  },
  "toc": {
   "nav_menu": {},
   "number_sections": true,
   "sideBar": true,
   "skip_h1_title": false,
   "title_cell": "Table of Contents",
   "title_sidebar": "Contents",
   "toc_cell": true,
   "toc_position": {},
   "toc_section_display": true,
   "toc_window_display": false
  }
 },
 "nbformat": 4,
 "nbformat_minor": 2
}
