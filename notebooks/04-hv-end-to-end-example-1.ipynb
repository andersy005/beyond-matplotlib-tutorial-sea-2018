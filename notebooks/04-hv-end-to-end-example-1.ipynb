{
 "cells": [
  {
   "cell_type": "markdown",
   "metadata": {
    "toc": true
   },
   "source": [
    "<h1>Table of Contents<span class=\"tocSkip\"></span></h1>\n",
    "<div class=\"toc\"><ul class=\"toc-item\"><li><span><a href=\"#End-to-End-Example:-Working-with-Tabular-Datasets\" data-toc-modified-id=\"End-to-End-Example:-Working-with-Tabular-Datasets-1\"><span class=\"toc-item-num\">1&nbsp;&nbsp;</span>End-to-End Example: Working with Tabular Datasets</a></span><ul class=\"toc-item\"><li><span><a href=\"#Load-data-from-5-weather-stations-in-Illinois\" data-toc-modified-id=\"Load-data-from-5-weather-stations-in-Illinois-1.1\"><span class=\"toc-item-num\">1.1&nbsp;&nbsp;</span>Load data from 5 weather stations in Illinois</a></span></li><li><span><a href=\"#Declaring-dimensions\" data-toc-modified-id=\"Declaring-dimensions-1.2\"><span class=\"toc-item-num\">1.2&nbsp;&nbsp;</span>Declaring dimensions</a></span></li><li><span><a href=\"#Mapping-dimensions-to-elements\" data-toc-modified-id=\"Mapping-dimensions-to-elements-1.3\"><span class=\"toc-item-num\">1.3&nbsp;&nbsp;</span>Mapping dimensions to elements</a></span></li><li><span><a href=\"#Faceting-dimensions\" data-toc-modified-id=\"Faceting-dimensions-1.4\"><span class=\"toc-item-num\">1.4&nbsp;&nbsp;</span>Faceting dimensions</a></span><ul class=\"toc-item\"><li><span><a href=\"#Overlay-of-Curves\" data-toc-modified-id=\"Overlay-of-Curves-1.4.1\"><span class=\"toc-item-num\">1.4.1&nbsp;&nbsp;</span>Overlay of Curves</a></span></li><li><span><a href=\"#Layout-of-HeatMaps\" data-toc-modified-id=\"Layout-of-HeatMaps-1.4.2\"><span class=\"toc-item-num\">1.4.2&nbsp;&nbsp;</span>Layout of HeatMaps</a></span></li><li><span><a href=\"#Adjoint-Layout-of-Scatter\" data-toc-modified-id=\"Adjoint-Layout-of-Scatter-1.4.3\"><span class=\"toc-item-num\">1.4.3&nbsp;&nbsp;</span>Adjoint Layout of Scatter</a></span></li></ul></li><li><span><a href=\"#HoloMap-of-Points\" data-toc-modified-id=\"HoloMap-of-Points-1.5\"><span class=\"toc-item-num\">1.5&nbsp;&nbsp;</span>HoloMap of Points</a></span></li><li><span><a href=\"#GridMatrix-of-Bars\" data-toc-modified-id=\"GridMatrix-of-Bars-1.6\"><span class=\"toc-item-num\">1.6&nbsp;&nbsp;</span>GridMatrix of Bars</a></span></li><li><span><a href=\"#Attribution\" data-toc-modified-id=\"Attribution-1.7\"><span class=\"toc-item-num\">1.7&nbsp;&nbsp;</span>Attribution</a></span></li><li><span><a href=\"#Onwards\" data-toc-modified-id=\"Onwards-1.8\"><span class=\"toc-item-num\">1.8&nbsp;&nbsp;</span>Onwards</a></span></li></ul></li></ul></div>"
   ]
  },
  {
   "cell_type": "markdown",
   "metadata": {},
   "source": [
    "<br>\n",
    "<img src=\"https://i.imgur.com/gvrbAjo.png\" width=\"50%\" style=\"margin: 0px 25%\">"
   ]
  },
  {
   "cell_type": "markdown",
   "metadata": {},
   "source": [
    "# End-to-End Example: Working with Tabular Datasets"
   ]
  },
  {
   "cell_type": "markdown",
   "metadata": {},
   "source": [
    "In this tutorial all the information you have learned in the previous sections will finally really pay off. We will discover how to facet data and use different element types to explore and visualize the data contained in a real dataset."
   ]
  },
  {
   "cell_type": "code",
   "execution_count": null,
   "metadata": {},
   "outputs": [],
   "source": [
    "from holoext.bokeh import Mod\n",
    "import numpy as np\n",
    "import pandas as pd\n",
    "import holoviews as hv\n",
    "import warnings\n",
    "\n",
    "warnings.filterwarnings('ignore')  # bokeh deprecation warnings\n",
    "hv.extension('bokeh')"
   ]
  },
  {
   "cell_type": "markdown",
   "metadata": {},
   "source": [
    "## Load data from 5 weather stations in Illinois"
   ]
  },
  {
   "cell_type": "code",
   "execution_count": null,
   "metadata": {},
   "outputs": [],
   "source": [
    "df = pd.read_parquet('../datasets/weather_station_data.parquet')\n",
    "df.head()"
   ]
  },
  {
   "cell_type": "markdown",
   "metadata": {},
   "source": [
    "## Declaring dimensions\n",
    "\n",
    "Mathematical variables can usually be described as **dependent** or **independent**. In HoloViews these correspond to value dimensions and key dimensions (respectively).\n",
    "\n",
    "In this dataset ``'station'`` and ``'date'`` are independent variables or key dimensions, while the remainder are automatically inferred as value dimensions:\n"
   ]
  },
  {
   "cell_type": "code",
   "execution_count": null,
   "metadata": {},
   "outputs": [],
   "source": [
    "ds = hv.Dataset(df, kdims=['station', 'date', 'year', 'month'])"
   ]
  },
  {
   "cell_type": "code",
   "execution_count": null,
   "metadata": {},
   "outputs": [],
   "source": [
    "ds"
   ]
  },
  {
   "cell_type": "markdown",
   "metadata": {},
   "source": [
    "## Mapping dimensions to elements"
   ]
  },
  {
   "cell_type": "markdown",
   "metadata": {},
   "source": [
    "Once we have a ``Dataset`` with multiple dimensions we can map these dimensions onto elements using the ``.to`` method. The method takes four main arguments:\n",
    "\n",
    "1. The element you want to convert to\n",
    "2. The key dimensions (or independent variables to display)\n",
    "3. The dependent variables to display\n",
    "4. The dimensions to group by\n",
    "\n",
    "\n",
    "As a first simple example let's go through such a declaration:\n",
    "\n",
    "1. We will use a ``Curve``\n",
    "2. Our independent variable will be the 'date'\n",
    "3. Our dependent variable will be 'precip_cumsum_in', 'precip_in'\n",
    "4. We will ``groupby`` the 'station'"
   ]
  },
  {
   "cell_type": "code",
   "execution_count": null,
   "metadata": {},
   "outputs": [],
   "source": [
    "curve = ds.to(hv.Curve, kdims=['date'], vdims=['precip_cumsum_in', 'precip_in'], groupby='station')\n",
    "Mod(xlabel='Date', ylabel='Cumulative Precip [in]').apply(curve)"
   ]
  },
  {
   "cell_type": "markdown",
   "metadata": {},
   "source": [
    "## Faceting dimensions\n",
    "\n",
    "In the previous section we discovered how to facet our data using the ``.overlay``, ``.grid`` and ``.layout`` methods. Instead of working with more abstract FM modulation signals, we now have concrete variables\n",
    "\n",
    "###  Overlay of Curves"
   ]
  },
  {
   "cell_type": "code",
   "execution_count": null,
   "metadata": {},
   "outputs": [],
   "source": [
    "STATIONS = df.station.unique() # a list of unique stations\n",
    "STATIONS"
   ]
  },
  {
   "cell_type": "code",
   "execution_count": null,
   "metadata": {},
   "outputs": [],
   "source": [
    "curve_list = []\n",
    "for station in STATIONS:\n",
    "    curve = hv.Curve(\n",
    "        ds.select(station=station),\n",
    "        kdims=['date'],\n",
    "        vdims=['precip_cumsum_in', 'precip_in'],\n",
    "        label=station)\n",
    "    curve = curve.opts(style=dict(line_alpha=0.75))  # style the curves\n",
    "    curve_list.append(curve)"
   ]
  },
  {
   "cell_type": "code",
   "execution_count": null,
   "metadata": {},
   "outputs": [],
   "source": [
    "curves_overlay = hv.Overlay(curve_list)\n",
    "Mod(xlabel='Date',\n",
    "    ylabel='Cumulative Precip [in]',\n",
    "    tools=['ypan', 'hover', 'ywheel_zoom', 'save', 'reset']).apply(curves_overlay)"
   ]
  },
  {
   "cell_type": "markdown",
   "metadata": {},
   "source": [
    "### Layout of HeatMaps"
   ]
  },
  {
   "cell_type": "code",
   "execution_count": null,
   "metadata": {},
   "outputs": [],
   "source": [
    "max_hmap = ds.to(\n",
    "    hv.HeatMap,\n",
    "    kdims=['year', 'month'],\n",
    "    vdims=['max_temp_f'],\n",
    "    groupby='station',\n",
    "    label='Max Temp [F]').redim.range(max_temp_f=(10, 110))\n",
    "\n",
    "min_hmap = ds.to(\n",
    "    hv.HeatMap,\n",
    "    kdims=['year', 'month'],\n",
    "    vdims=['min_temp_f'],\n",
    "    groupby='station',\n",
    "    label='Min Temp [F]').redim.range(min_temp_f=(0, 80))\n",
    "\n",
    "hmaps = max_hmap + min_hmap\n",
    "\n",
    "Mod(xlabel='Year', ylabel='Month', width=1500).apply(hmaps).cols(1)"
   ]
  },
  {
   "cell_type": "markdown",
   "metadata": {},
   "source": [
    "### Adjoint Layout of Scatter"
   ]
  },
  {
   "cell_type": "code",
   "execution_count": null,
   "metadata": {},
   "outputs": [],
   "source": [
    "# define plot and style options for different elements\n",
    "scatter_opts = dict(width=500, height=500)\n",
    "scatter_style = dict(alpha=0.35, size=5, color='red')\n",
    "hist_style = dict(alpha=0.75, line_color=None)\n",
    "\n",
    "opts = {\n",
    "    'Scatter': {\n",
    "        'plot': scatter_opts,\n",
    "        'style': scatter_style\n",
    "    },\n",
    "    'Histogram': {\n",
    "        'style': hist_style\n",
    "    }\n",
    "}"
   ]
  },
  {
   "cell_type": "code",
   "execution_count": null,
   "metadata": {
    "scrolled": true
   },
   "outputs": [],
   "source": [
    "scatter = ds.to(\n",
    "    hv.Scatter,\n",
    "    kdims=['avg_wind_speed_kts'],\n",
    "    vdims=['avg_wind_drct'],\n",
    "    groupby='station')\n",
    "\n",
    "scatter_hists = scatter.hist(\n",
    "    num_bins=100, dimension=['avg_wind_speed_kts',\n",
    "                           'avg_wind_drct']).opts(opts).redim.label(\n",
    "                               avg_wind_speed_kts='Wind Speed [kts]',\n",
    "                               avg_wind_drct='Wind Dir. [deg]',\n",
    "                               avg_wind_speed_kts_frequency='Freq.',\n",
    "                               avg_wind_drct_frequency='Freq.')\n",
    "\n",
    "\n",
    "Mod().apply(scatter_hists)"
   ]
  },
  {
   "cell_type": "markdown",
   "metadata": {},
   "source": [
    "## HoloMap of Points"
   ]
  },
  {
   "cell_type": "code",
   "execution_count": null,
   "metadata": {},
   "outputs": [],
   "source": [
    "points = ds.to(\n",
    "    hv.Points,\n",
    "    kdims=['date', 'max_temp_f'],\n",
    "    vdims=['precip_in'],\n",
    "    groupby='station',\n",
    "    group='Temperature and Precipitation for').opts(\n",
    "        style={'Points': dict(alpha=0.35)})\n",
    "\n",
    "Mod(tools=['hover', 'save', 'ypan', 'ywheel_zoom'],\n",
    "    ylabel='Max Temp [F]',\n",
    "    xlabel='Date',\n",
    "    width=1000,\n",
    "    num_xticks=15,\n",
    "    xrotation=35,\n",
    "    size_index=2,\n",
    "    color_index=2,\n",
    "    scaling_factor=25,\n",
    "    colorbar_n=5,\n",
    "    colorbar_title='[in]').apply(points).redim.range(precip_in=(0, 5))"
   ]
  },
  {
   "cell_type": "markdown",
   "metadata": {},
   "source": [
    "## GridMatrix of Bars"
   ]
  },
  {
   "cell_type": "code",
   "execution_count": null,
   "metadata": {},
   "outputs": [],
   "source": [
    "def make_box(month, year):\n",
    "    \"\"\"Creates and returns a box and whisker plot for given month and year\"\"\"\n",
    "    sub_ds = ds.select(month=month, year=year)\n",
    "    text = hv.Text('', 45, '{0:2d}/{1:s}'.format(\n",
    "        month,\n",
    "        str(year)[2:])).opts(\n",
    "            style=dict(text_alpha=0.5, text_font_size='12px'))\n",
    "    box = hv.BoxWhisker(sub_ds, 'station', 'max_rh')\n",
    "    return box * text\n",
    "\n",
    "\n",
    "boxes = {\n",
    "    (month, year): make_box(month, year)\n",
    "    for month in df['month'].unique()[\n",
    "        2::4]  # to speed it up the computation, select a few months\n",
    "    for year in df['year'].unique()[-4:]  # Slice the last 4 years\n",
    "}\n",
    "\n",
    "gridmatrix = hv.GridMatrix(boxes)\n",
    "title = 'Max Relative Humidity Spread'\n",
    "Mod(\n",
    "    axiswise=False,\n",
    "    xlabel='Station',\n",
    "    ylabel='Max RH [%]',\n",
    "    autosize=True,\n",
    "    title_format=title,\n",
    "    label_scaler=0.6,\n",
    "    merge_tools=True,\n",
    "    tools=['save', 'hover'],\n",
    "    logo=False,\n",
    "    plot_size=250  # width/height doesn't work in grid matrix\n",
    ").apply(gridmatrix)"
   ]
  },
  {
   "cell_type": "markdown",
   "metadata": {},
   "source": [
    "## Attribution\n",
    "\n",
    "The content for this section is adapted from [holoext gallery](https://holoext.readthedocs.io/en/latest/examples/examples.html)."
   ]
  },
  {
   "cell_type": "markdown",
   "metadata": {},
   "source": [
    "## Onwards\n",
    " \n",
    "* Go through the Tabular Data [getting started](http://build.holoviews.org/getting_started/Tabular_Datasets.html) and [user guide](http://build.holoviews.org/user_guide/Tabular_Datasets.html).\n",
    "* Learn about slicing, indexing and sampling in the [Indexing and Selecting Data](http://holoviews.org/user_guide/Indexing_and_Selecting_Data.html) user guide.\n",
    "\n",
    "The next section shows a similar approach, but for working with gridded data, in multidimensional array formats.\n"
   ]
  }
 ],
 "metadata": {
  "kernelspec": {
   "display_name": "Python 3",
   "language": "python",
   "name": "python3"
  },
  "language_info": {
   "codemirror_mode": {
    "name": "ipython",
    "version": 3
   },
   "file_extension": ".py",
   "mimetype": "text/x-python",
   "name": "python",
   "nbconvert_exporter": "python",
   "pygments_lexer": "ipython3",
   "version": "3.6.4"
  },
  "toc": {
   "nav_menu": {},
   "number_sections": true,
   "sideBar": true,
   "skip_h1_title": false,
   "title_cell": "Table of Contents",
   "title_sidebar": "Contents",
   "toc_cell": true,
   "toc_position": {},
   "toc_section_display": true,
   "toc_window_display": false
  }
 },
 "nbformat": 4,
 "nbformat_minor": 2
}
